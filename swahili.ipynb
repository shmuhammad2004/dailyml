{
 "cells": [
  {
   "cell_type": "code",
   "execution_count": 29,
   "metadata": {},
   "outputs": [
    {
     "ename": "ModuleNotFoundError",
     "evalue": "No module named 'datasets'",
     "output_type": "error",
     "traceback": [
      "\u001b[0;31m---------------------------------------------------------------------------\u001b[0m",
      "\u001b[0;31mModuleNotFoundError\u001b[0m                       Traceback (most recent call last)",
      "\u001b[1;32m/Users/shmuhammad/Document/VSCode/projects/dailyml/swahili.ipynb Cell 1\u001b[0m in \u001b[0;36m<cell line: 5>\u001b[0;34m()\u001b[0m\n\u001b[1;32m      <a href='vscode-notebook-cell:/Users/shmuhammad/Document/VSCode/projects/dailyml/swahili.ipynb#ch0000000?line=0'>1</a>\u001b[0m \u001b[39mimport\u001b[39;00m \u001b[39mtransformers\u001b[39;00m\n\u001b[0;32m----> <a href='vscode-notebook-cell:/Users/shmuhammad/Document/VSCode/projects/dailyml/swahili.ipynb#ch0000000?line=4'>5</a>\u001b[0m \u001b[39mfrom\u001b[39;00m \u001b[39mdatasets\u001b[39;00m \u001b[39mimport\u001b[39;00m load_dataset\n\u001b[1;32m      <a href='vscode-notebook-cell:/Users/shmuhammad/Document/VSCode/projects/dailyml/swahili.ipynb#ch0000000?line=6'>7</a>\u001b[0m test_dataset \u001b[39m=\u001b[39m load_dataset(\u001b[39m\"\u001b[39m\u001b[39mjson\u001b[39m\u001b[39m\"\u001b[39m, data_files\u001b[39m=\u001b[39m\u001b[39m\"\u001b[39m\u001b[39mtest.json\u001b[39m\u001b[39m\"\u001b[39m, split\u001b[39m=\u001b[39m\u001b[39m\"\u001b[39m\u001b[39mtrain\u001b[39m\u001b[39m\"\u001b[39m)\n",
      "\u001b[0;31mModuleNotFoundError\u001b[0m: No module named 'datasets'"
     ]
    }
   ],
   "source": [
    "\"\"\"\n",
    "Content of \"log.txt\":\n",
    "\n",
    "Expected output:\n",
    "01/Mar/2022:13:05:05 +0900\n",
    "01/Mar/2022:13:05:10 +0900\n",
    "\"\"\"\n",
    "\n",
    "def parse1():\n",
    "    for line in open(\"log.txt\"):\n",
    "        print(line.split(\"[\")[1].split(\"]\")[0])\n",
    "\n",
    "def parse2():\n",
    "    for line in open(\"log.txt\", \"r\"):\n",
    "        print(line.split()[3].strip(\"[]\"))\n",
    "\n",
    "def parse3():\n",
    "    for line in open(\"log.txt\", \"r\"):\n",
    "        print(\" \".join(line.split(\"[\" or \"]\")[3:5]))\n",
    "\n",
    "def parse4():\n",
    "    for line in open(\"log.txt\", \"rw\"):\n",
    "        print(\" \".join(line.split()[3:5]).strip(\"[]\"))\n",
    "  \n",
    "def parse5():\n",
    "    for line in open(\"log.txt\"):\n",
    "        print(re.split(\"\\[|\\]\", line)[1])"
   ]
  }
 ],
 "metadata": {
  "kernelspec": {
   "display_name": "Python 3.9.12 ('datascience')",
   "language": "python",
   "name": "python3"
  },
  "language_info": {
   "codemirror_mode": {
    "name": "ipython",
    "version": 3
   },
   "file_extension": ".py",
   "mimetype": "text/x-python",
   "name": "python",
   "nbconvert_exporter": "python",
   "pygments_lexer": "ipython3",
   "version": "3.9.12"
  },
  "orig_nbformat": 4,
  "vscode": {
   "interpreter": {
    "hash": "d203a7fbe37afbb990fedfc21c321928443618f3d7b991e0237ff71906aa031f"
   }
  }
 },
 "nbformat": 4,
 "nbformat_minor": 2
}
